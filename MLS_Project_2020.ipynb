{
 "cells": [
  {
   "cell_type": "markdown",
   "metadata": {},
   "source": [
    "## MLS PRoject 2020 \n",
    "\n",
    "### Slawomir Sowa\n",
    "### G00375619@gmit.ie\n",
    "---"
   ]
  },
  {
   "cell_type": "markdown",
   "metadata": {},
   "source": [
    "### Subject:\n",
    "In this project you must create a web service that uses machine learning to make predictions based on the data set powerproduction available on Moodle. The goal is to\n",
    "produce a model that accurately predicts wind turbine power output from wind speed\n",
    "values, as in the data set. You must then develop a web service that will respond with\n",
    "predicted power values based on speed values sent as HTTP requests. Your submission\n",
    "must be in the form of a git repository containing, at a minimum, the following items:\n",
    "1. Jupyter notebook that trains a model using the data set. In the notebook you\n",
    "should explain your model and give an analysis of its accuracy.\n",
    "2. Python script that runs a web service based on the model, as above.\n",
    "3. Dockerfile to build and run the web service in a container.\n",
    "4. Standard items in a git repository such as a README."
   ]
  },
  {
   "cell_type": "markdown",
   "metadata": {},
   "source": [
    "###  Wind Power Research\n",
    "\n",
    "#### FUndmatental Equation of Wind Power\n",
    "Wind Power depends on:\n",
    "* amount of air (volume)\n",
    "* speed of air (velocity)\n",
    "* mass of air (density)\n",
    "\n",
    "and the Wind Power can be calculated from \n",
    "\n",
    "$$P = \\frac{1}{2} \\rho Av^3  $$\n",
    "\n",
    "Where: $\\rho$ - density of the air, $A$ capture area of the wind, $v$ wind speed <em>[1]</em>\n",
    "\n",
    "The most important variable is windspeed. The area swept out by of the turbine is a constant and the density of air is generally taken as $1.225 kg/m^3$, its vale at sea level at 15 degrees $C$. <em>[2]</em>\n",
    "\n",
    "The swept area can be calculated as:\n",
    "$$ A = \\pi r^2$$\n",
    "\n",
    "![Swept Area](img/swept_area.png)\n",
    "\n",
    "A German physicist Albert Betz concluded in 1919 that no wind turbine can convert more than 16/27 (59.3%) of the kinetic energy of the wind into mechanical energy turning a rotor. To this day, this is known as the Betz Limit or Betz' Law. The theoretical maximum power efficiency of any design of wind turbine is 0.59 (i.e. no more than 59% of the energy carried by the wind can\n",
    "be extracted by a wind turbine). This is called the “power coefficient” and is defined as:\n",
    "\n",
    "$$ C_{p_{max}} = 0.59$$\n",
    "\n",
    "Also, wind turbines cannot operate at this maximum limit. The Cp value is unique to each turbine type and is a function of wind speed that the turbine is operating in. Once we incorporate various engineering requirements of a wind turbine - strength and durability in particular - the real world limit is well below the Betz Limit with values of 0.35-0.45 common even in the best designed wind turbines. <em>[1]</em>\n",
    "\n",
    "$$ P_{avail} = \\frac{1}{2} \\rho Av^3 C_p $$\n",
    "\n",
    "#### Turbine Output vs Winds Speed\n",
    "\n",
    "The curve shows that the turbine starts generateingg power at around 3 $m/s$ - the cut-in speed. Slower wind don't have enough power to make the rotor spin. As wind speed increases, there's a rapid increace in power. The sut_down speed is the speed at wi\n",
    "hich the turbine will apply a braking mechanism to prevent damage. <em>[3]</em>\n",
    "\n",
    "![chart](img/turbine_chart.png)\n",
    "\n",
    "\n",
    "<em>[1].</em> Wind Turbine Power Calculations;  https://www.raeng.org.uk/publications/other/23-wind-turbine <br>\n",
    "<em>[2].</em> The Missing Link Between Air Density And Wind Power Production; https://www.technologyreview.com/2011/03/15/196333/the-missing-link-between-air-density-and-wind-power-production/<br>\n",
    "<em>[3]</em> Rooftop Wind Turbines: Are They Worthwhile? https://www.engineering.com/ElectronicsDesign/ElectronicsDesignArticles/ArticleID/9556/Rooftop-Wind-Turbines-Are-They-Worthwhile.aspx"
   ]
  },
  {
   "cell_type": "markdown",
   "metadata": {},
   "source": [
    "### Importing Libraries"
   ]
  },
  {
   "cell_type": "code",
   "execution_count": 1,
   "metadata": {},
   "outputs": [],
   "source": [
    "import pandas as pd\n",
    "import numpy as np\n",
    "import matplotlib.pyplot as plt\n",
    "%matplotlib inline"
   ]
  },
  {
   "cell_type": "markdown",
   "metadata": {},
   "source": [
    "### Load Data Set"
   ]
  },
  {
   "cell_type": "code",
   "execution_count": 2,
   "metadata": {},
   "outputs": [
    {
     "data": {
      "text/html": [
       "<div>\n",
       "<style scoped>\n",
       "    .dataframe tbody tr th:only-of-type {\n",
       "        vertical-align: middle;\n",
       "    }\n",
       "\n",
       "    .dataframe tbody tr th {\n",
       "        vertical-align: top;\n",
       "    }\n",
       "\n",
       "    .dataframe thead th {\n",
       "        text-align: right;\n",
       "    }\n",
       "</style>\n",
       "<table border=\"1\" class=\"dataframe\">\n",
       "  <thead>\n",
       "    <tr style=\"text-align: right;\">\n",
       "      <th></th>\n",
       "      <th>speed</th>\n",
       "      <th>power</th>\n",
       "    </tr>\n",
       "  </thead>\n",
       "  <tbody>\n",
       "    <tr>\n",
       "      <th>0</th>\n",
       "      <td>0.000</td>\n",
       "      <td>0.0</td>\n",
       "    </tr>\n",
       "    <tr>\n",
       "      <th>1</th>\n",
       "      <td>0.125</td>\n",
       "      <td>0.0</td>\n",
       "    </tr>\n",
       "    <tr>\n",
       "      <th>2</th>\n",
       "      <td>0.150</td>\n",
       "      <td>0.0</td>\n",
       "    </tr>\n",
       "    <tr>\n",
       "      <th>3</th>\n",
       "      <td>0.225</td>\n",
       "      <td>0.0</td>\n",
       "    </tr>\n",
       "    <tr>\n",
       "      <th>4</th>\n",
       "      <td>0.275</td>\n",
       "      <td>0.0</td>\n",
       "    </tr>\n",
       "  </tbody>\n",
       "</table>\n",
       "</div>"
      ],
      "text/plain": [
       "   speed  power\n",
       "0  0.000    0.0\n",
       "1  0.125    0.0\n",
       "2  0.150    0.0\n",
       "3  0.225    0.0\n",
       "4  0.275    0.0"
      ]
     },
     "execution_count": 2,
     "metadata": {},
     "output_type": "execute_result"
    }
   ],
   "source": [
    "# using pandas read_csv method to read data from file\n",
    "df = pd.read_csv(\"powerproduction.csv\")\n",
    "df.head()"
   ]
  }
 ],
 "metadata": {
  "kernelspec": {
   "display_name": "Python 3",
   "language": "python",
   "name": "python3"
  },
  "language_info": {
   "codemirror_mode": {
    "name": "ipython",
    "version": 3
   },
   "file_extension": ".py",
   "mimetype": "text/x-python",
   "name": "python",
   "nbconvert_exporter": "python",
   "pygments_lexer": "ipython3",
   "version": "3.7.1"
  }
 },
 "nbformat": 4,
 "nbformat_minor": 2
}
